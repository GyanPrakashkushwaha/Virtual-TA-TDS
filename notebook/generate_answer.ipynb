{
 "cells": [
  {
   "cell_type": "code",
   "execution_count": 7,
   "id": "cb5178ce",
   "metadata": {},
   "outputs": [],
   "source": [
    "import numpy as np\n",
    "import os\n",
    "os.chdir('d:\\\\GyanPrakashKushwaha\\\\TDS\\\\On-My-Own')\n",
    "from embed import get_chunks, get_embeddings\n",
    "from config import GEMINI_API_KEY"
   ]
  },
  {
   "cell_type": "code",
   "execution_count": 2,
   "id": "2949b997",
   "metadata": {},
   "outputs": [],
   "source": [
    "discourse_embeddings = np.load('embeddings\\discourse_embeddings.npz')\n",
    "markdown_embeddings = np.load('embeddings\\markdown_embeddings.npz')"
   ]
  },
  {
   "cell_type": "code",
   "execution_count": 3,
   "id": "38881510",
   "metadata": {},
   "outputs": [
    {
     "data": {
      "text/plain": [
       "(NpzFile 'embeddings\\\\discourse_embeddings.npz' with keys: chunks, embeddings, original_urls,\n",
       " NpzFile 'embeddings\\\\markdown_embeddings.npz' with keys: chunks, embeddings, original_urls)"
      ]
     },
     "execution_count": 3,
     "metadata": {},
     "output_type": "execute_result"
    }
   ],
   "source": [
    "discourse_embeddings, markdown_embeddings"
   ]
  },
  {
   "cell_type": "code",
   "execution_count": 11,
   "id": "6d26b474",
   "metadata": {},
   "outputs": [
    {
     "data": {
      "text/plain": [
       "(array([ 0.0306072 , -0.01333968,  0.01606282, ...,  0.01087242,\n",
       "         0.00144763, -0.00074216], shape=(3072,)),\n",
       " '\\n',\n",
       " array(['Development Tools NOTE : The tools in this module are PRE-REQUISITES for the course. You would have used most of these before. If most of this is new to you, please take this course later. Some tools are fundamental to data science because they are industry standards and widely used by data science professionals. Mastering these tools will align you with current best practices and making you more adaptable in a fast-evolving industry. The tools we cover here are not just popular, they’re the core technology behind most of today’s data science and software development.'],\n",
       "       dtype='<U7895'))"
      ]
     },
     "execution_count": 11,
     "metadata": {},
     "output_type": "execute_result"
    }
   ],
   "source": [
    "discourse_embeddings['embeddings'][0][0],'\\n',markdown_embeddings['chunks'][0] "
   ]
  },
  {
   "cell_type": "code",
   "execution_count": 19,
   "id": "2ae56c9c",
   "metadata": {},
   "outputs": [],
   "source": [
    "def find_similar_content(query_embedding, MAX_SIMILAR_TEXT, discourse_data, markdown_data):\n",
    "    results = []\n",
    "    \n",
    "    # Search discourse chunks\n",
    "    print(\"Searching discourse chunks for similar content...\")\n",
    "    embeddings = discourse_data['embeddings']\n",
    "    contents = discourse_data['chunks']\n",
    "    urls = discourse_data['original_urls']\n",
    "    \n",
    "    for i, embedding in enumerate(embeddings):            \n",
    "            similarity = cosine_similarity(query_embedding, embedding)\n",
    "            if similarity >= 0.5:\n",
    "                results.append({\n",
    "                    \"source\": \"discourse\",\n",
    "                    \"url\": urls[i] if i < len(urls) else \"\",\n",
    "                    \"contents\": contents[i] if i < len(contents) else \"\",\n",
    "                    \"similarity\": similarity\n",
    "                })\n",
    "    \n",
    "    # Search markdown chunks\n",
    "    print(\"Searching markdown chunks for similar contents...\")\n",
    "    embeddings = markdown_data['embeddings']\n",
    "    contents = markdown_data['chunks']\n",
    "    urls = markdown_data['original_urls']\n",
    "    \n",
    "    for i, embedding in enumerate(embeddings):            \n",
    "            similarity = cosine_similarity(query_embedding, embedding)\n",
    "            if similarity >= 0.5:\n",
    "                results.append({\n",
    "                    \"source\": \"markdown\",\n",
    "                    \"url\": urls[i] if i < len(urls) else \"\",\n",
    "                    \"contents\": contents[i] if i < len(contents) else \"\",\n",
    "                    \"similarity\": similarity\n",
    "                })\n",
    "    \n",
    "    # Sort by similarity and return top results\n",
    "    results.sort(key=lambda x: x[\"similarity\"], reverse=True)\n",
    "    return results[:MAX_SIMILAR_TEXT]\n",
    "\n",
    "def cosine_similarity(vec1, vec2):\n",
    "    vec1 = np.array(vec1)\n",
    "    vec2 = np.array(vec2[0])\n",
    "    dot_product = np.dot(vec1, vec2)\n",
    "    norm_vec1 = np.linalg.norm(vec1)\n",
    "    norm_vec2 = np.linalg.norm(vec2)\n",
    "    return dot_product/(norm_vec1 * norm_vec2)"
   ]
  },
  {
   "cell_type": "code",
   "execution_count": 13,
   "id": "2a54ff36",
   "metadata": {},
   "outputs": [],
   "source": [
    "question = \"How can I proceed with TDS course?\"\n",
    "embedding_response = await get_embeddings(question, GEMINI_API_KEY)"
   ]
  },
  {
   "cell_type": "code",
   "execution_count": 20,
   "id": "d60ed2e2",
   "metadata": {},
   "outputs": [
    {
     "name": "stdout",
     "output_type": "stream",
     "text": [
      "Searching discourse chunks for similar content...\n",
      "Searching markdown chunks for similar contents...\n"
     ]
    }
   ],
   "source": [
    "relevant_results = find_similar_content(embedding_response, 10, discourse_embeddings, markdown_embeddings)"
   ]
  },
  {
   "cell_type": "code",
   "execution_count": 21,
   "id": "8bbf4ac9",
   "metadata": {},
   "outputs": [
    {
     "data": {
      "text/plain": [
       "[{'source': 'discourse',\n",
       "  'url': array(['https://discourse.onlinedegree.iitm.ac.in/t/drop-course-window-for-tds/164737'],\n",
       "        dtype='<U147'),\n",
       "  'contents': array(['I found that TDS is so much time engaging along with office work and also new comer in coding. Should i drop the course as of now? if Yes, then when will be the drop course window start?'],\n",
       "        dtype='<U8000'),\n",
       "  'similarity': np.float64(0.7632075082648546)},\n",
       " {'source': 'discourse',\n",
       "  'url': array(['https://discourse.onlinedegree.iitm.ac.in/t/which-subject-to-choose-in-jan-term/161071'],\n",
       "        dtype='<U147'),\n",
       "  'contents': array(['Hii all…i know this may not be the correct platform to ask this question. Actually i have 3 diploma subjects to cover - MLP, JAVA, TDS. So which 2 subject should i choose for this term?Don’t take TDS, this subject should be taken in the end else you might have some problemTDS at the end best. Gives you the best chance of doing well in it. Kind regardsYes you should do tds after mlp only it really help you alot trust me'],\n",
       "        dtype='<U8000'),\n",
       "  'similarity': np.float64(0.7350199465484039)},\n",
       " {'source': 'discourse',\n",
       "  'url': array(['https://discourse.onlinedegree.iitm.ac.in/t/tds-jan-2025-calender-accesss-and-video-lecture-access-in-portal/163158'],\n",
       "        dtype='<U147'),\n",
       "  'contents': array(['dear @carlton sir i am unable to access the course calender for tds and also not able to get the recorded videos of tds in my portal.kindly help me out with thisSame issue with me sir. This is how my dashboard looks like. It shows the same for week 2 as well. dashboard_tds_jahnaviHunsigida 936×561 93.3 KB@RaunakThatoi @jahnavih The course content is available at Screenshot 2025-01-13 at 22.47.14 2068×788 75.4 KB At Tools in Data Science the course calendar is also available. Screenshot 2025-01-13 at 22.51.33 2044×1082 250 KB Likewise the GAs also are available through the links in the seek portal as well as on the course domain shared above. The course introduction has very important information. Many students who faced problems in Tools for Data Science in previous terms usually never read the intro. Please be diligent to read everything carefully. Don’t gloss over these bits (they are expandable if you click on them) for eg… Screenshot 2025-01-13 at 22.59.19 778×268 22.7 KB Screenshot 2025-01-13 at 23.01.49 1684×920 104 KB Kind regardsI’m confused where exactly is the TDS course? image 1920×1073 124 KB Where are the weekly videos? Where and what is the assignment? I’m confused.Kindly refer to this post Tds jan 2025 calender accesss and video lecture access in portal Tools in Data Science @RaunakThatoi @jahnavih The course content is available at [Screenshot 2025-01-13 at 22.47.14] At Tools in Data Science the course calendar is also available. [Screenshot 2025-01-13 at 22.51.33] Likewise the GAs also are available through the links in the seek portal as well as on the course domain shared above. The course introduction has very important information. Many students who faced problems in Tools for Data Science in previous terms usually never read the intro. Please be dilig… Kind regards'],\n",
       "        dtype='<U8000'),\n",
       "  'similarity': np.float64(0.6913591982049307)},\n",
       " {'source': 'discourse',\n",
       "  'url': array(['https://discourse.onlinedegree.iitm.ac.in/t/issues-in-tds-and-replacement-with-another-course/164147'],\n",
       "        dtype='<U147'),\n",
       "  'contents': array(['The knowledge required by students to do TDS has been revised during recent terms. ( Mentioned that as per industrial standards/ needs). Additional programming skills are required(in addition to Python) to follow the TDS Course. That means indirectly, one should complete many courses diploma in programming before doing TDS. In such a case, how to drop the course Tools In Data Science(already registered) and get it replaced with another course to save time and without incurring financial losses(as dropping a course refunds only a certain percentage of fees amount paid for the course), and do it again later in terms. It’s completely IIT Madras’s fault since it was mentioned in the academics site that no prerequisites were required for the course while the reality turned out to be far from promises. I want to either get the course structure for the TDS revised or get it replaced with some another course; incase of some course fee difference, I will pay the difference amount.i think you would have to mail this to the support@Rrishit , please do share the response you receive (or maybe already have) from Support, regarding this, here.'],\n",
       "        dtype='<U8000'),\n",
       "  'similarity': np.float64(0.6839178872198161)},\n",
       " {'source': 'discourse',\n",
       "  'url': array(['https://discourse.onlinedegree.iitm.ac.in/t/project-2-tds-solver-discussion-thread/169029'],\n",
       "        dtype='<U147'),\n",
       "  'contents': array(['If you had better resources available, you have hardly been the paragon of virtue, because we always encourage people to share their learnings. We learn from you, just as you learn from us. If someone makes a better video than us and give it for free, we are happy enough to learn from them. Why should we reinvent a video that is poor quality and force students to watch it when there are better videos? We are not so egoistic to take that approach and worse it does not benefit our students to satisfy our ego. There are a million videos out there on you Tube, how do you find the best one? We curate it. So that you do not have to spend hours finding a good video. But feel free to find better videos. More power to you, but what would be even better? Share with others so that we can build each other up. What are the best videos to learn linear algebra? Probably MIT. Why bother with substandard videos when you can just get the best for free? Its just that watching MIT videos will not give you an undergraduate degree from MIT. And it costs Rs. 2.7 crores, provided you even get a seat in the first place. Here you get a 4 year degree for Rs 3.5 lakhs. So you are paying for that. I absolutely 100% agree with you, if you think you can get a better degree for Rs 3.5 Lakhs then definitely do that. There is no point in wasting time and money on something that is not delivering good value to you. 23f2002668: They only have some points copy pasted from documentations, but they never tried to explain them. Just read, copy and paste in your program. What is it, why it is used for, don’t ask anything. Reading documentation is a skill you have to pick up. Having said that, we have always explained something that students have asked. Just ask anyone who attended the sessions. More significantly, most of the new things we learnt, were self taught. Unless you pick up this lifelong habit, you will struggle in the real world. Now is a good time to start. 23f2002668: Some students request for extending the time limit of [roject-2 just only for one day, but what was their excuse- \"We won’t be able to extend deadline, if we do, then evaluations will get delayed. \" That is correct. We do not want to evaluations for Project 2 to be delayed as end term is very close. Is your complaint that you want evaluations to be delayed? Also its not an excuse. Its a fact. Delaying submissions, delays evaluations. Its just basic logic. 23f2002668: I want to ask them, where is the result of Project-1? They have already been sent to all those who passed the prerequisites. Yours did not pass the first time. Luckily for you, our first priority is always to do our best for students. So not being satisfied with the validation script that was run which was stricter, we created a new one that was more forgiving. You should get a 0 based on the stricter criteria, but you passed on our more lenient check and now you will soon be getting a normalised 7/20 score (we have not decided the normalisation yet because its a matter of deciding how lenient to be). 23f2002668: The first date of result declaration was 26-Feb, then their another date was 16-March, but until now on 2-Apr, we do not get our results. It is more than 45 days, what is this going on? Nobody tried to ask with our great teachers. If you had attended the live session you would have seen Anand explain the reason for the delay. And we do not mind when students ask why and we freely tell them why. So I do not understand how you came to this conclusion. 23f2002668: In project-2, we have to continue running our project until they will not evaluate, whether they take more than 1, 2 or more months. Either we have to host online by paying or run our own system for 24x7 unto when, we also don;t know as their result date is also not fixed, it is just a combination of letters and numbers showing on portal. Anand invited students to write the evaluation script in his live session. And since you claim it is so easy you could have written it and gotten full marks. I am not sure why you did not take this easy option. You complained about it, but decided not to create a solution? Also if you watched the sessions, we never asked you to run your server for 2 months or 1 month etc. Its generally a bad idea to make assumptions that have no basis in reality. Project 2 is easy to evaluate. We expect it will take a few days, possibly by this weekend to finish evaluation and push a score. So why you came to the conclusion it would take months, is a mystery, given that you already rightfully explained that its easy to write a script. But validation takes time. We want to make sure there are no bugs and errors and a lot of edges are possible when students are running various deployments. So we want to give them the best chance of actually scoring. Unless you prefer we do a rush job and give them zeros. You would have received a zero in your project 1 had we not caught a few edge cases in our testing regime. You can take a poll and ask fellow students if they prefer your approach. We are always happy to make changes based on feedback. 23f2002668: It is my kind request, our term is going to be completed, but please make some efforts in next term. Thankyou to all my respected ‘The Great Teachers’. I am glad you decided make a kind request, although by all the personal insults and attacks and your ending sign off its clear that neither respect nor kindness is evident in your post. But thank you for your feedback. One final note: Do interact more, its healthy. We make mistakes, and we learn. There are many things we want fix for next term. Its not at all our desire to delay evaluations. The complexity of project 1 evaluations was unexpected. So we do apologise for that. We have done so repeatedly, even in our sessions and in discourse posts. The scripts that we released for everyone, probably showed how challenging it was to get it right so that everyone who could get a score, got a score. And when writing posts or emails or any communication, try to stay on point and professional. We are always happy to learn what we can change and improve. Kind regards, TDS teamHi, I have a few things to say My background : I have completed all the courses in diploma except TDS. I have secured reasonably good grades in all the courses. However, I failed TDS the last term and I am likely to fail in this term too. The reason is, I got bad marks in both ROE and I have never submitted any project, i.e., I have not submitted 3 TDS projects in the last two terms and did badly in the first project of the previous term. My Initial Disappointments with this Course In one of the orientation session, I heard Andrew sir say this (subject to correction): The video lectures are the primary content. It is not compulsory to attend the live sessions, but it is highly recommended. Here, the most important resource are the live sessions. I did not like it. Till now, I have managed all the courses with faculty lectures alone. I rarely watch live sessions. I didn’t like watching live sessions. I felt it was against what is pointed out in the previous paragraph ROE is just for forty five minutes, with around 10 questions. I felt that this is rubbish and unthoughtful. There are not many videos explaining the tools (from IIT side). Only a few videos. Most of the tools are explained through text. I felt that a the purpose of a college course is to explain things in a simple way so that we can learn it easily. Why did I fail? Last Term I dumped myself with a 3 more courses, projects and nptel courses. I didn’t practice the GAs properly. So I failed ROE. I will come to the projects soon. This term. I made sure that I do all the GAs properly. But I did better than last time in ROE but still bad. This time because, other than GAs, I didn’t allocate time for ROE. Also, I didn’t submit both the projects. In both the terms I didn’t collaborate with anyone.'],\n",
       "        dtype='<U8000'),\n",
       "  'similarity': np.float64(0.6833622487449647)},\n",
       " {'source': 'discourse',\n",
       "  'url': array(['https://discourse.onlinedegree.iitm.ac.in/t/project-2-tds-solver-discussion-thread/169029'],\n",
       "        dtype='<U147'),\n",
       "  'contents': array(['Also my project-1 has not been scored .. till now .. Please review that also. Project 2 - TDS Solver - Discussion Thread - #240- 2,400.00 - 0.00 - 1,234.00 - 10,000.00 - 20.00 - 2,000.00 - 0.00 - 0.00 - 20,03,030.00 - 1,000.00 - 1,000.00 - 1,000.00 - 1,000.00 - 1,000.00 Now, let\\'s calculate the total: - 1,233.00 - 56,767.00 - 2,400.00 - 1,234.00 - 10,000.00 - 20.00 - 2,000.00 - 20,03,030.00 - 5,000.00 (total of subsequent similar entries) Summing these values: 1,233.00 + 56,767.00 + 2,400.00 + 1,234.00 + 10,000.00 + 20.00 + 2,000.00 + 2,003,030.00 + 5,000.00 = 2,073,684.00 Thus, the total value of complaints is **2,073,684.00**. Hi @22f3000370 We appreciate the efforts you have put in. But, for the project we aren’t expecting a full-stack app with an integrated frontend. We just need an API endpoint on which we would be able to send requests in the given format. For more info check the TDS course page. Tools in Data Science@Saransh_Saini Is answer in this form acceptable.. image 2726×1489 463 KBcurl -X \\'POST\\' \\\\ \\'http://127.0.0.1:8000/api/\\' \\\\ -H \\'accept: application/json\\' \\\\ -H \\'Content-Type: multipart/form-data\\' \\\\ -F \\'question=ShopSmart is an online retail platform that places a high value on customer feedback. Each month, the company receives hundreds of comments Request URL http://127.0.0.1:8000/api/ Server response Code Details 200 Response body { \"answer\": \"Here\\'s a Python function that calculates the cosine similarity between each pair of embeddings and returns the pair of phrase s that has the highest similarity:\\\\n\\\\n```python\\\\nimport numpy as np\\\\nfrom itertools import combinations\\\\n\\\\ndef cosine_similarity(vec_a, ve c_b):\\\\n \\\\\"\\\\\"\\\\\"Calculate the cosine similarity between two vectors.\\\\\"\\\\\"\\\\\"\\\\n dot_product = np.dot(vec_a, vec_b)\\\\n norm_a = np.linal g.norm(vec_a)\\\\n norm_b = np.linalg.norm(vec_b)\\\\n \\\\n if norm_a == 0 or norm_b == 0: # Handle zero division\\\\n return 0.0\\\\n return dot_product / (norm_a * norm_b)\\\\n\\\\ndef most_similar(embeddings):\\\\n \\\\\"\\\\\"\\\\\"Find the pair of phrases with the highest cosine simila rity.\\\\\"\\\\\"\\\\\"\\\\n max_similarity = -1\\\\n most_similar_pair = (None, None)\\\\n phrases = list(embeddings.keys())\\\\n vectors = lis t(embeddings.values())\\\\n \\\\n for (phrase_a, vec_a), (phrase_b, vec_b) in combinations(zip (phrases, vectors), 2):\\\\n sim = cosin max_similarity = sim\\\\n most_similar_pair = (phrase_a, e_similarity(vec_a, vec_b)\\\\n if sim > max_similarity:\\\\n \\\\n phrase_b)\\\\n \\\\n return most_similar_pair\\\\n\\\\n# Example usage\\\\nembeddings = {\\\\n \\\\\"Packaging was excellent.\\\\\": [-0.01674579456448555, -0.06481242924928665, -0.24050545692443848, 0.042519159615039825, \\\\n 683, 0.1299005150794983, 0.17366009950637817, \\\\n 23444, -0.015152188017964363, \\\\n 1757946, \\\\n 0.14857585728168488, -0.11343036592006 -0.12356054037809372, 0.049548257142305374, 0.230582013726 -0.06047092750668526, -0.08428027480840683, 0.140513077378273, 0.033095341 0.15987755358219147, -0.13982394337654114, -0.1899235099554062, 0.0849694088101387, \\\\n 0.10901995003223419, 0.023171907290816307, 0.1423737108707428, -0.010603947564959526, \\\\n -0.123629450798034 0.13754981756210327, 0.0631929785013 0.5634305477142334, 0.003012778703123331, -0.154226705431 0.10013020783662796, 0.05392421782016754, 0.10895103961229324, -0.017710573 67, -0.02598010189831257, 0.04410415142774582, -0.0650191679596901,\\\\n 1989, 0.2340276539325714, -0.1448545753955841,\\\\n 93817, -0.10137064009904861, \\\\n 0.0405896008014678 971271515, \\\\n -0.0018617206951603293, 0.01796899549663067, 0.0550268217921257, 0.251669317483902, \\\\n -0.005680993665009737, 0.12080402672290802, -0.08173050731420517, 0.1045406237244606, \\\\n 96, 0.1787596344947815],\\\\n \\\\\"Shipping costs were too high.\\\\\": [-0.02132924273610115, -0.05078135058283806, 0.24659079313278198, 0.03407 837450504303, \\\\n -0.031469374895095825, 0.04534817487001419, -0.14255358278751373, 0.0284838192164897what is the problem in my Dockerfile it’s not working and crashing my system # Use Ubuntu 22.04 as the base image FROM ubuntu:22.04 # Set environment variables ENV PYTHON_VERSION=3.11 # Install system dependencies RUN apt-get update && apt-get install -y \\\\ python3.11 \\\\ python3-pip \\\\ python3-dev \\\\ git \\\\ curl \\\\ wget \\\\ ffmpeg \\\\ imagemagick \\\\ build-essential \\\\ libpq-dev \\\\ && rm -rf /var/lib/apt/lists/* # Ensure python3.11 is the default python version RUN ln -sf /usr/bin/python3.11 /usr/bin/python # Install NodeJS RUN curl -sL https://deb.nodesource.com/setup_22.x -o nodesource_setup.sh && \\\\ bash nodesource_setup.sh && \\\\ apt-get install -y nodejs && \\\\ node -v && \\\\ npm install -g prettier@3.4.2 # Copy dependencies file first to leverage caching COPY re.txt ./ # Install Python dependencies RUN pip install --no-cache-dir -r re.txt # Install `uv` package manager from Astral COPY --from=ghcr.io/astral-sh/uv:latest /uv /uvx /bin/ # Create and set working directory WORKDIR /app # Copy application files COPY main.py . COPY llm_functions.py . COPY llm_tools_functions_calls.py . COPY server.py . # Set default command to start the FastAPI server with `uv` CMD [\"uv\", \"run\", \"main.py\"] @carlton @Jivrajimage 1454×433 30.4 KB I have deployed the project on render so the first request in evaluation takes around 50 to 60 second is that okayWEB SERVICE TDS-Project-2 Python 3 Free Upgrade your instance → 23f3001764 / TDS-Project-2 main https://tds-project-2-pnlm.onrender.com Connect Manual Deploy Your free instance will spin down with inactivity, which can delay requests by 50 seconds or more. Upgrade now March 31, 2025 at 4:38 PM In Progress 5989351 Final Commit Cancel deploy All logs ✓ Q Search Live tail GMT+5:30 ↑ I deployed my API using Railway.app, but Jio ISP is blocking requests to .up.railway.app . I tested it with five other ISPs, and the API endpoint works perfectly. Could you please consider that some ISPs may be blocking certain domains? @Jivraj @carltonError code: 401 - {‘error’: {‘message’: ‘Your authentication token is not from a valid issuer.’, ‘type’: ‘invalid_request_error’, ‘param’: None, ‘code’: ‘invalid_issuer’}} This error is persisting despite many attempts.you have given diffrent variable name in environment and in app@carlton @Jivraj @Saransh_Saini Can you pls confirm on timeline since azure take money so till when do we have to turn on our deployment portal servicesAlso if we are using ngrok , how long do we have to keep it runningYup, this is correct. All we need is the JSON object.We’ll try to keep this in consideration while developing the evaluation script. But to be on the safer side keep sending requests to your server on such intervals that it doesn’t go inactive.@Saransh_Saini @s.anand @carlton @Jivraj Please extend the deadline for TDS Project 2. The MAD 1 project and two OPPEs have taken up all my time. I have completed my TDS project up to the Week 3 assignment solutions, and only two weeks remain to complete Weeks 4 and 5.PLEASE! We won’t be able to extend deadline, if we do, then evaluations will get delayed.I completely understand the need to keep evaluations on schedule. In that case, would it be possible to grant just a one-day extension? I’ve completed up to Week 3 and just need a little extra time to wrap up Weeks 4 and 5 properly. A single day would really help me submit a more polished project without causing significant delaysI think it should be given many had their OPPE alsoSir, please reply. Otherwise, all my hard work up to Week 3 assignment will go to waste.Even Im getting the same error. Did you find a resolution for this?are you sure api requests are going through the IITM AI Proxy and not OpenAI directly?I am facing this issue can any one help image 717×572 25.9 KBThis Serverless Function has crashed. Your connection is working correctly. Vercel is working correctly. 500: INTERNAL_SERVER_ERROR Code: `FUNCTION_INVOCATION_FAILED` ID: `bom1::48ghr-1743430791127-d99a1b77819a` If you are a visitor, contact the website owner or try again later. If you are the owner, learn how to fix the error and check the logs.'],\n",
       "        dtype='<U8000'),\n",
       "  'similarity': np.float64(0.6826630404214762)},\n",
       " {'source': 'markdown',\n",
       "  'url': array(['https://tds.s-anand.net/#/tds-ta-instructions?id=tds-ta-instructions'],\n",
       "        dtype='<U112'),\n",
       "  'contents': array(['TDS TA Instructions The TDS TA is a virtual assistant that helps you with your doubts. It has been trained on course content created as follows: ``` Clone the course repository git clone https://github.com/sanand0/tools-in-data-science-public.git cd tools-in-data-science-public Create a prompt file for the TA PYTHONUTF8=1 uvx files-to-prompt --cxml *.md -o tds-content.xml Replace the source with the URL of the course sed -i \"s/ / https:\\\\/\\\\/tds.s-anand.net\\\\/#\\\\//g\" tds-content.xmlCopy to clipboardErrorCopied ``` Additionally, we visit each of the evaluation links on https://exam.sanand.workers.dev/ , copy it as Markdown , and add it to the content, called ga1.md , ga2.md , etc. These files are uploaded to the IITM TDS Teaching Assistant . Take a look at the GPT’s instructions. These were generated by the OpenAI Prompt Generation tool. ``` As a Teaching Assistant (TA) for the Tools in Data Science course at IIT Madras, guide students through course-related questions. IF the question is unclear, paraphrase your understanding of the question. Cite all relevant sections from tds-content.xml or ga*.md . Begin with: \"According to this reference , ...\". Cite ONLY from the relevant . ALWAYS cite verbatim. Mention ALL material relevant to the question. Search online for additional answers. Share results WITH CITATION LINKS. Think step-by-step. Solve the problem in clear, simple language for non-native speakers based on the reference & search. Follow-up: Ask thoughtful questions to help students explore and learn.Copy to clipboardErrorCopied ```'],\n",
       "        dtype='<U7895'),\n",
       "  'similarity': np.float64(0.6802481240193732)},\n",
       " {'source': 'discourse',\n",
       "  'url': array(['https://discourse.onlinedegree.iitm.ac.in/t/tds-module-6/168482'],\n",
       "        dtype='<U147'),\n",
       "  'contents': array(['I am not able to see Module 6 or Module 7 in my TDS curriculum. Please let me know whether it is released already.@24ds1000012 Both Module 6 and Module 7 have been available from the start of the course. All modules were released before the 10th of Jan on the TDS course site. https://tds.s-anand.net/#/ Module 6: https://tds.s-anand.net/#/data-analysis Module 7: https://tds.s-anand.net/#/data-visualization GA 6 will become available sometime this week. We do not currently have an ETA on GA 7 and Project 2. Please refer to pinned post at the top of TDS page for new dates. Kind regards'],\n",
       "        dtype='<U8000'),\n",
       "  'similarity': np.float64(0.6790383050215918)},\n",
       " {'source': 'discourse',\n",
       "  'url': array(['https://discourse.onlinedegree.iitm.ac.in/t/ga4-data-sourcing-discussion-thread-tds-jan-2025/165959'],\n",
       "        dtype='<U147'),\n",
       "  'contents': array(['(FYI, one person did solve it. A colleague, not someone from the IITM DS program.)Hello Sir, i tried but unfortunately after extracting the contents and formatting the contents and submitting it, it’s showing various errors like Missing links, Missing tables… But on checking the file i wasn’t able to find any single table in the contents in that case what could be done to fix these errors? @Jivraj @carlton @Saransh_Sainisame issue with me as wellSir I checked the pdf file, there is only one place unorder list is given and the same is available in my answer. But the system throws error Missing List (I tried with other symbols * and + also) . Please inform me where I made mistake image 1108×271 5.87 KBthis is table. Check it image 313×136 5.2 KBQ 10 - PDF to Markdown. Why it is saying Incorrect. Try again? Do I need to add CSS? Carbo ventosus tametsi patior. Recusandae ciminatio alienus nisi ventosus apud. Theatrum abutor aperio spargo vestrum virga placeat adulescens. Deripio alveus creator omnis tabula patria cupiditate in virga speculum. Acidu`s alienus vehemens vapulus. earum clamo collum curtus careo curatio tendo sunt culpo Suus sit magni traho tempora. Depraedor vae dedecor conturbo. Curia vigor vinco terebro alii tantum clam. Modi veniam alveus clementia sumo iusto adfero truculenter. cresco solio ademptio terreo bis tardus carpo allatus depono benevolentia tunc atavus barba urbs considero adulescensamplitudo verbum cultura id cenaculum ipsum sursum conturbo nemo damno arbitro quibusdam articulus animadverto ustulo crudelis depraedor sophismata tener apostolus suus adopto coniecto maxime rerum acceptus virga confero comes cresco vomito deputo ceno Cuppedia uberrime socius atque paens Sto theca testimonium aestus debitis valde vulgusI checked many times. For me it says “Incorrect. Try again.”Ya i know, i added tables, list, blockquote, code, tables have all been added still it’s showing errors. Not sure where am I going wrong.Please refer video and document relating to Question 1 of Assignment 3. There it is mentioned how to mark bold, table etc., use those marksI have added all those and pasted the markdown and it appears as above . `` Carbo ventosus tametsi patior. Recusandae ciminatio alienus nisi ventosus apud. Theatrum abutor aperio spargo vestrum virga placeat adulescens. Deripio alveus creator omnis tabula patria cupiditate in virga speculum. Acidu`s alienus vehemens vapulus. `` **earum clamo collum** curtus careo curatio tendo sunt culpo Suus sit magni traho tempora. Depraedor vae dedecor conturbo. Curia vigor vinco terebro alii tantum clam. Modi veniam alveus clementia sumo iusto adfero truculenter. | cresco | solio | ademptio | terreo | bis | | ------------------- | ------- | --------- | --------- | ------------ | | tardus | carpo | allatus | depono | benevolentia | | tunc | atavus | barba | urbs | considero | | adulescensamplitudo | | verbum | cultura | id | | cenaculum | ipsum | sursum | conturbo | nemo | | damno | arbitro | quibusdam | articulus | animadverto | - ustulo crudelis depraedor - sophismata tener apostolus suus adopto - coniecto maxime rerum - acceptus virga confero comes [cresco vomito](;;;) [deputo ceno](;;;) # Cuppedia uberrime socius atque paens # Sto theca testimonium aestus debitis [valde vulgus](;;;) Below is the screenshot of provided PDF. That font colour strains my eyes. Any particular reason for that PDF? image 541×439 20.9 KBCarbo vencosus camessi patior. Recusandae ciminatio alienus nisi ventosus apud. Theatrum abutor aperto spargo vestrum virga placeat, adulescens Doripio alveus creator omnis tabula patria cupiditata in virga speculum Acidus aliamus vehemens vapulus. Barum clamo collum curtus careo curatio tendo sunt culpo Suus sit magni traho tempora. Depraedor vae dedecor conturbo. Curia vigor vinco terebro alii tantum clam. Modi veniam alveus clementia sumo iusto adfero truculenter. cresco solio ademptio terreo bis tardus carpo allatus depono benevolentia tunc atavus barba urbs considero adulescensamplitudo verbum cultura id cenaculum ipsum sursum conturbo nemo damno arbitro quibusdam articulus animadverto • ustulo crudelis depraedor • sophismata tener apostolus suus adopto • coniecto maxime rerum • acceptus virga confero comes cresco vomito deputo ceno Cuppedia uberrime socius atque paens Sto theca testimonium aestus debitis valde vulgus I am getting missing link error. I checked in the pdf file also, the blue color text seems a link but its not clickable. Any suggestion to move nearer to the actual solution.You may try like this: cresco vomito [cresco vomito](;;;)Even I’m getting a similar error in Q2, it is expecting a foreign title whereas my search result gives only English titles. image 1614×250 14.4 KB Please help.What is the JSON data? { \"id\": \"tt8712204\", \"title\": \"25. Batwoman\", \"year\": \"2019-2022\", \"rating\": \"3.6\" Error: At [12].title: Values don\\'t match. Expected: \"13. Pídeme lo que quieras\". Actual: \"13. Ask Me What You Want\" I think the idea behind this font is to make it difficult for people to manually work on the markdown file from scratch. I guess they want us to use the tools (like PyMuPDF4LLM, markitdown) they provided as resources to convert pdf into a markdown and then may be we can do some manual intervention to make it to the result as the scraping tools are not 100% accurate. Could be another reason too. TAs’ can feel free to pitch in.A post was merged into an existing topic: Tds: assignment is not submittingyour last saved score (i.e.6 of your’s) will be official score and forgot about seek portal , it is not meant for this type of assignment.Thank you for the update! I gave Q10 another shot, and I was able to solve it this time. The more liberal checks and improved error messages made a big difference in understanding where I was going wrong. Thank again.Can we use hacking to get answers to some questions? Has anyone ever done it?What format is required for the “missing links” here image 1973×849 93.6 KB Here is my markdown - statua demulceo amaritudo tametsi - tam ante - dens spiritus - thema succurro sollers audio Conforto conor tum deputo caecus cervus coepi aegrotatio totam xiphias. Repudiandae ducimus acerbitas ademptio . Delectatio tamquam suus. Centum usitas tamen cedo auctus turpis video clibanus. Correptius beatus crepusculum decens succedo alias aperte decumbo trado. Talio universe deduco caute sui u vester undique - subito umbra - caritas saepe - taceo concido bos Tenetur exercitationem numquam ultio tyrannus aeger vindico. Subvenio ambulo vacuus. Quidem quam tactus tracto aureus cupiditas. thema astrum # Spero uter Harum cometes damnatio theologus virgo aperiam velut cursim. **venustaspeccatus adsum** acidus quisquam torrens clam adeptio virga Depulso claro consectetur concedo aveho bis pectus traho nobis. Cura adicio colligo corporis eligendi soluta ducimus carus. Allatus sapiente summa atqui deludo cur Terebro vallum rem velociter currus suppellex. Viduo damno ustilo valetudo. Tribuo una vorago sui testimonium angelus suscipio eius demulceo civis. Delectus coniecto repellendus amoveo amissio incidunt Audax teneo centum cilicium vigor venio. Patria credo tonsor. Defessus pax volup vomito creator video campana cedo vita votum. Laudantium victoria aer via tepidus. Adulescens corporis triumphus coruscus sordeo trans dolorum. - doloremque cum allatus aduro - inventore thalassinus - aperiam tergiversatio - contigo alienus aranea cito cogo Verus delinquo magnam comptus adfectus suffoco benigne deleo amplitudo . Cura deleniti theologus vestigium aranea denique vester doloribus . Venio cimentarius cr depereo subvenio ---Impact By completing this exercise, you will contribute to EduDocs Inc.\\'s mission of providing high-quality, accessible educational resources. Automating the PDF to Markdown conversion and ensuring consistent formatting: • Enhances Productivity: Reduces the time and effort required to prepare documentation for clients.'],\n",
       "        dtype='<U8000'),\n",
       "  'similarity': np.float64(0.6785532514578937)},\n",
       " {'source': 'discourse',\n",
       "  'url': array(['https://discourse.onlinedegree.iitm.ac.in/t/project-2-tds-solver-discussion-thread/169029'],\n",
       "        dtype='<U147'),\n",
       "  'contents': array(['This is regarding project 1 and project 2. Project-1 Evaluation Sir, For the project 1, I have written the code, uploaded in GitHub and the dockerfile image is created and uploaded successfully. Sir, I already contacted regarding Project - 1, you said to check it by replicating the test environment. I did till running the dockerfile but I needed evaluate.py sir, which I didn’t get it. I got only 5 marks sir. Can you please check my code once sir and verify it as I have written the code and the dockerfile is running successfully. Project-2 Evaluation Regarding project 2 also, I have uploaded my code in GitHub and deployed my app in Vercel. But, I got 0 sir. Can you check my code once again and verify it? According to the guidance given, I deployed my app through Vercel. The app got deployed but I am getting 404 Error, even after trying any troubleshooting method. Maybe, Vercel is in development stage. Sir, but I wrote the code and deployed, but I got 0 marks only. Please check it and guide me to get it corrected. Sir, due to the projects I got poor marks on TDS. Please, I request you to re-evaluate and give me correct marks. In anticipation of quick response Thank YouHi everyone, I know that some of you might be feeling anxious about your scores etc. We are currently in the process of validating your scores on all the projects, roe, assignments, exam and bonus, so we will not be able to respond quickly to each individual post here for the time being. Once we validate, you will receive an email with your official scores that we will be pushing to Operations in a single update. Along with that email you will receive a discrepancy form where you can raise your issues. This will give us a consolidated view of problems and fix them. Kindly wait for the email to come to you. It will be sent sometime this afternoon. Kind regards, TDS Teamimage 1366×768 127 KB Dear Team, this is proof that I have successfully submitted the form and the api is still working, why am i still marked as absent? Please respond my email is 23f1002942@ds.study.iitm.ac.inMy Dashboard - IIT MX Project 2 :: IITM Onlin X Project 2 - TDS Solver × Project 2 X TDS Project 2 - Jan 20 X MTDS Project 2 Endpoi X + ← C mail.google.com/mail/u/0/?tab=rm&ogbl#search/project+2/FMfcgzQZVJvWVxFlwhzdRfqxQkdGMJvg M Gmail Q project 2 99+ ← Compose Mail Inbox 4,645 Chat D Meet ☆Starred Snoozed ► Sent Π + Edit response D X • Active TDS Project 2 Endpoints Dear Learner, ☆ O IIT Madras A X 5 of many < > 31 ♡ Drafts ► Categories More Due to some major operational changes in the backend, we have had some unforeseen delays in conducting the evaluations of Project 2 Endpoints. As a result, some of you, have had to restart your servers or enact some other changes to your servers in order to keep the endpoints alive. This may have resulted in your URLs changing. + Labels + To streamline the process of URL endpoints changes and accommodate your grievances we have created this form for you to be able to update your endpoints. proctor Your email address (23f1002942@ds.study.iitm.ac.in) was recorded when you submitted this form. Type here to search Please provide your updated endpoint. If the endpoint changes, please edit this form that you have already submitted so that we can have the latest endpoint. Do not submit multiple forms. ^) ENG 14:34 18-04-2025 > Sir I have been marked Absent for the ROE exam, I was very much present and got a 4 out of 10, can you please check?@carlton @Jivraj @Saransh_Saini Why am my I getting GET request to my api endpoint? It must be IITM’s http request because I have not shared it with anyone. image 804×1035 206 KB It clearly written in the project 2 in TDS portal that api must accept POST request, not GET . image 1065×440 42.5 KB It is requested to kindly look into this matter and please clarify.INFO: 123.160.223.72:54416 - \"GET / HTTP/1.1\" 404 Not Found INFO: 198.235.24.156:61106 - \"GET / HTTP/1.1\" 404 Not Found WARNING: Invalid HTTP request received. INFO: 137.184.237.203:49008 - \"GET /squid-internal-mgr/cachemgr.cgi HTTP/1.1\" 404 Not Found INFO: 34.76.133.13:39380 - \"GET / HTTP/1.1\" 404 Not Found INFO: 185.226.197.28:57285 - \"GET / HTTP/1.1\" 404 Not Found WARNING: Invalid HTTP request received. INFO: 44.220.185.78:44772 - \"GET / HTTP/1.1\" 404 Not Found INFO: 196.251.71.213:41752 - \"GET / HTTP/1.1\" 404 Not Found INFO: 147.185.132.19:60588 - \"GET / HTTP/1.1\" 404 Not Found WARNING: Invalid HTTP request received. WARNING: Invalid HTTP request received. INFO: 138.197.93.48:57332 - \"GET / HTTP/1.1\" 404 Not Found INFO: 138.197.93.48:57340 - \"GET /login HTTP/1.1\" 404 Not Found INFO: 147.185.132.240:63132 - \"GET / HTTP/1.1\" 404 Not Found WARNING: Invalid HTTP request received. INFO: 206.168.34.39:48972 - \"GET / HTTP/1.1\" 404 Not Found INFO: 206.168.34.39:48984 - \"PRI %2A HTTP/2.0\" 404 Not Found WARNING: Invalid HTTP request received. INFO: 206.168.34.39:37652 - \"GET /favicon.ico HTTP/1.1\" 404 Not Found WARNING: Invalid HTTP request received. INFO: 205.210.31.25:63138 - \"GET / HTTP/1.1\" 404 Not Found INFO: 182.52.66.178:57068 - \"GET / HTTP/1.0\" 404 Not Found WARNING: Invalid HTTP request received. INFO: 3.145.63.56:41312 - \"GET / HTTP/1.1\" 404 Not Found WARNING: Invalid HTTP request received. WARNING: Invalid HTTP request received. INFO: 64.62.156.156:8435 - \"GET / HTTP/1.1\" 404 Not Found INFO: 64.62.156.157:49175 - \"GET /favicon.ico HTTP/1.1\" 404 Not Found INFO: 64.62.156.158:49711 - \"GET http%3A//api.ipify.org/?format=json HTTP/1.1\" 404 Not Found INFO: 64.62.156.153:15905 - \"CONNECT www.shadowserver.org%3A443 HTTP/1.1\" 404 Not Found WARNING: Invalid HTTP request received. WARNING: Invalid HTTP request received. INFO: 199.45.155.111:37700 - \"GET / HTTP/1.1\" 404 Not Found INFO: 199.45.155.111:45862 - \"GET / HTTP/1.1\" 404 Not Found INFO: 199.45.155.111:45878 - \"PRI %2A HTTP/2.0\" 404 Not Found WARNING: Invalid HTTP request received. INFO: 199.45.155.111:43082 - \"GET /favicon.ico HTTP/1.1\" 404 Not Found WARNING: Invalid HTTP request received. INFO: 198.235.24.231:64768 - \"GET / HTTP/1.1\" 404 Not Found WARNING: Invalid HTTP request received. INFO: 64.227.97.195:58406 - \"GET /squid-internal-mgr/cachemgr.cgi HTTP/1.1\" 404 Not Found INFO: 167.94.146.62:57102 - \"GET / HTTP/1.1\" 404 Not Found INFO: 167.94.146.62:48726 - \"GET / HTTP/1.1\" 404 Not Found INFO: 167.94.146.62:48728 - \"PRI %2A HTTP/2.0\" 404 Not Found WARNING: Invalid HTTP request received. INFO: 167.94.146.62:48730 - \"GET /favicon.ico HTTP/1.1\" 404 Not Found WARNING: Invalid HTTP request received. WARNING: Invalid HTTP request received. INFO: 15.235.224.227:56193 - \"GET / HTTP/1.1\" 404 Not Found when we get log files for project 2I had completed project 2 but because of a mistake i filled the form with my personal mail id fue to which the project eas not evaluated i fully consider this to be my fault and assure that something like this will not happen in the future . If my evaluation of project 2 is not done then i will fail the tds course and will have to repeat this course which will cause a financial strain on me I know that it is difficult for you to consider this request but it is my humblest request if you can just look through the project i tried to complete the project with the best of my abilities It will be really helpful if you can access the project My git repository link is - GitHub - kartikayy1/project2final My vercel link is - https://project2final-beta.vercel.app/I am also receiving the odd GET requests, however, I don’t believe these are being sent by the evaluation teams. Our endpoints are open to internet and there are bots everywhere which will send these kind of random requests to scan for potential exploit/hacking targets.Good Evening, I shreyansh Singh have been marked absent even though I submitted, 23f2002745Maybe. Still clarification from @carlton @Jivraj @Saransh_Saini will be highly appreciated.I too was getting these requests.'],\n",
       "        dtype='<U8000'),\n",
       "  'similarity': np.float64(0.6782552401665545)}]"
      ]
     },
     "execution_count": 21,
     "metadata": {},
     "output_type": "execute_result"
    }
   ],
   "source": [
    "relevant_results"
   ]
  },
  {
   "cell_type": "code",
   "execution_count": 23,
   "id": "e7574dca",
   "metadata": {},
   "outputs": [],
   "source": [
    "import httpx\n",
    "import asyncio"
   ]
  },
  {
   "cell_type": "code",
   "execution_count": 24,
   "id": "39a9a4af",
   "metadata": {},
   "outputs": [],
   "source": [
    "from google.genai import Client, types"
   ]
  },
  {
   "cell_type": "code",
   "execution_count": 29,
   "id": "b9670348",
   "metadata": {},
   "outputs": [],
   "source": [
    "async def generate_answer(API_KEY, url, question, relevant_results, max_retries=3):\n",
    "    context = \"\"\n",
    "    for result in relevant_results:\n",
    "        source_type = \"Discourse post\" if result[\"source\"] == \"discourse\" else \"Documentation\"\n",
    "        context += f\"\\n\\n{source_type} (URL: {result['url']}):\\n{result['contents'][:1500]}\"\n",
    "    \n",
    "    prompt = f\"\"\"Answer the following question based ONLY on the provided context. \n",
    "    If you cannot answer the question based on the context, say \"I don't have enough information to answer this question.\"\n",
    "\n",
    "    Context:\n",
    "    {context}\n",
    "\n",
    "    Question: {question}\n",
    "\n",
    "    Return your response in this exact format:\n",
    "    1. A comprehensive yet concise answer\n",
    "    2. A \"Sources:\" section that lists the URLs and relevant text snippets you used to answer\n",
    "\n",
    "    Sources must be in this exact format:\n",
    "    Sources:\n",
    "    1. URL: [exact_url_1], Text: [brief quote or description]\n",
    "    2. URL: [exact_url_2], Text: [brief quote or description]\n",
    "\n",
    "    Make sure the URLs are copied exactly from the context without any changes.\n",
    "    \"\"\"\n",
    "    \n",
    "    client = Client(api_key=API_KEY)\n",
    "\n",
    "    response = client.models.generate_content(\n",
    "        model=\"gemini-2.5-flash\",\n",
    "        config=types.GenerateContentConfig(\n",
    "            system_instruction= 'You are a helpful assistant that provides accurate answers based only on the provided context. Always include sources in your response with exact URLs.'),\n",
    "        contents=prompt\n",
    "    )\n",
    "    \n",
    "    return response.text"
   ]
  },
  {
   "cell_type": "code",
   "execution_count": 31,
   "id": "752a20cb",
   "metadata": {},
   "outputs": [],
   "source": [
    "ans = await generate_answer(GEMINI_API_KEY, '', question, relevant_results)"
   ]
  },
  {
   "cell_type": "code",
   "execution_count": 32,
   "id": "eb9b0877",
   "metadata": {},
   "outputs": [
    {
     "data": {
      "text/plain": [
       "'To proceed with the TDS course, consider the following:\\n\\n1.  **Timing:** It is recommended to take TDS after completing MLP (Machine Learning Programming) or towards the end of your diploma subjects, as this might give you the best chance of doing well. Some students have noted that additional programming skills beyond Python are required.\\n2.  **Course Content and Resources:** All course content, including recorded videos, course calendars, and GAs (Graded Assignments), are available on the TDS course site. You should diligently read the course introduction as it contains very important information.\\n3.  **Engage with Learning Materials:** While video lectures are the primary content, live sessions are highlighted as the most important resource and are highly recommended. Make sure to practice the Graded Assignments properly.\\n\\nSources:\\n1.  URL: https://discourse.onlinedegree.iitm.ac.in/t/which-subject-to-choose-in-jan-term/161071, Text: \"Don’t take TDS, this subject should be taken in the end else you might have some problem TDS at the end best. Gives you the best chance of doing well in it. Kind regards Yes you should do tds after mlp only it really help you alot trust me\"\\n2.  URL: https://discourse.onlinedegree.iitm.ac.in/t/tds-jan-2025-calender-accesss-and-video-lecture-access-in-portal/163158, Text: \"The course content is available at [Screenshot 2025-01-13 at 22.47.14] At Tools in Data Science the course calendar is also available. [Screenshot 2025-01-13 at 22.51.33] Likewise the GAs also are available through the links in the seek portal as well as on the course domain shared above. The course introduction has very important information. Many students who faced problems in Tools for Data Science in previous terms usually never read the intro. Please be diligent to read everything carefully.\"\\n3.  URL: https://discourse.onlinedegree.iitm.ac.in/t/issues-in-tds-and-replacement-with-another-course/164147, Text: \"Additional programming skills are required(in addition to Python) to follow the TDS Course. That means indirectly, one should complete many courses diploma in programming before doing TDS.\"\\n4.  URL: https://discourse.onlinedegree.iitm.ac.in/t/project-2-tds-solver-discussion-thread/169029, Text: \"In one of the orientation session, I heard Andrew sir say this (subject to correction): The video lectures are the primary content. It is not compulsory to attend the live sessions, but it is highly recommended. Here, the most important resource are the live sessions... I didn’t practice the GAs properly. So I failed ROE.\"\\n5.  URL: https://discourse.onlinedegree.iitm.ac.in/t/tds-module-6/168482, Text: \"All modules were released before the 10th of Jan on the TDS course site. https://tds.s-anand.net/#/\"'"
      ]
     },
     "execution_count": 32,
     "metadata": {},
     "output_type": "execute_result"
    }
   ],
   "source": [
    "ans"
   ]
  },
  {
   "cell_type": "code",
   "execution_count": 33,
   "id": "b0cbc661",
   "metadata": {},
   "outputs": [],
   "source": [
    "import re\n",
    "def parse_llm_response(response):\n",
    "    try:\n",
    "        # First try to split by \"Sources:\" heading\n",
    "        parts = response.split(\"Sources:\", 1)\n",
    "        \n",
    "        # If that doesn't work, try alternative formats\n",
    "        if len(parts) == 1:\n",
    "            # Try other possible headings\n",
    "            for heading in [\"Source:\", \"References:\", \"Reference:\"]:\n",
    "                if heading in response:\n",
    "                    parts = response.split(heading, 1)\n",
    "                    break\n",
    "        \n",
    "        answer = parts[0].strip()\n",
    "        links = []\n",
    "        \n",
    "        if len(parts) > 1:\n",
    "            sources_text = parts[1].strip()\n",
    "            source_lines = sources_text.split(\"\\n\")\n",
    "            \n",
    "            for line in source_lines:\n",
    "                line = line.strip()\n",
    "                if not line:\n",
    "                    continue\n",
    "                    \n",
    "                # Remove list markers (1., 2., -, etc.)\n",
    "                line = re.sub(r'^\\d+\\.\\s*', '', line)\n",
    "                line = re.sub(r'^-\\s*', '', line)\n",
    "                \n",
    "                # Extract URL and text using more flexible patterns\n",
    "                url_match = re.search(r'URL:\\s*\\[(.*?)\\]|url:\\s*\\[(.*?)\\]|\\[(http[^\\]]+)\\]|URL:\\s*(http\\S+)|url:\\s*(http\\S+)|(http\\S+)', line, re.IGNORECASE)\n",
    "                text_match = re.search(r'Text:\\s*\\[(.*?)\\]|text:\\s*\\[(.*?)\\]|[\"\"](.*?)[\"\"]|Text:\\s*\"(.*?)\"|text:\\s*\"(.*?)\"', line, re.IGNORECASE)\n",
    "                \n",
    "                if url_match:\n",
    "                    # Find the first non-None group from the regex match\n",
    "                    url = next((g for g in url_match.groups() if g), \"\")\n",
    "                    url = url.strip()\n",
    "                    \n",
    "                    # Default text if no match\n",
    "                    text = \"Source reference\"\n",
    "                    \n",
    "                    # If we found a text match, use it\n",
    "                    if text_match:\n",
    "                        # Find the first non-None group from the regex match\n",
    "                        text_value = next((g for g in text_match.groups() if g), \"\")\n",
    "                        if text_value:\n",
    "                            text = text_value.strip()\n",
    "                    \n",
    "                    # Only add if we have a valid URL\n",
    "                    if url and url.startswith(\"http\"):\n",
    "                        links.append({\"url\": url, \"text\": text})\n",
    "        \n",
    "        return {\"answer\": answer, \"links\": links}\n",
    "    except Exception as e:\n",
    "        error_msg = f\"Error parsing LLM response: {e}\"\n",
    "        # Return a basic response structure with the error\n",
    "        return {\n",
    "            \"answer\": \"Error parsing the response from the language model.\",\n",
    "            \"links\": []\n",
    "        }"
   ]
  },
  {
   "cell_type": "code",
   "execution_count": 36,
   "id": "edc4b84f",
   "metadata": {},
   "outputs": [
    {
     "name": "stdout",
     "output_type": "stream",
     "text": [
      "{'answer': 'To proceed with the TDS course, consider the following:\\n\\n1.  **Timing:** It is recommended to take TDS after completing MLP (Machine Learning Programming) or towards the end of your diploma subjects, as this might give you the best chance of doing well. Some students have noted that additional programming skills beyond Python are required.\\n2.  **Course Content and Resources:** All course content, including recorded videos, course calendars, and GAs (Graded Assignments), are available on the TDS course site. You should diligently read the course introduction as it contains very important information.\\n3.  **Engage with Learning Materials:** While video lectures are the primary content, live sessions are highlighted as the most important resource and are highly recommended. Make sure to practice the Graded Assignments properly.', 'links': [{'url': 'https://discourse.onlinedegree.iitm.ac.in/t/which-subject-to-choose-in-jan-term/161071,', 'text': 'Don’t take TDS, this subject should be taken in the end else you might have some problem TDS at the end best. Gives you the best chance of doing well in it. Kind regards Yes you should do tds after mlp only it really help you alot trust me'}, {'url': 'https://discourse.onlinedegree.iitm.ac.in/t/tds-jan-2025-calender-accesss-and-video-lecture-access-in-portal/163158,', 'text': 'The course content is available at [Screenshot 2025-01-13 at 22.47.14] At Tools in Data Science the course calendar is also available. [Screenshot 2025-01-13 at 22.51.33] Likewise the GAs also are available through the links in the seek portal as well as on the course domain shared above. The course introduction has very important information. Many students who faced problems in Tools for Data Science in previous terms usually never read the intro. Please be diligent to read everything carefully.'}, {'url': 'https://discourse.onlinedegree.iitm.ac.in/t/issues-in-tds-and-replacement-with-another-course/164147,', 'text': 'Additional programming skills are required(in addition to Python) to follow the TDS Course. That means indirectly, one should complete many courses diploma in programming before doing TDS.'}, {'url': 'https://discourse.onlinedegree.iitm.ac.in/t/project-2-tds-solver-discussion-thread/169029,', 'text': 'In one of the orientation session, I heard Andrew sir say this (subject to correction): The video lectures are the primary content. It is not compulsory to attend the live sessions, but it is highly recommended. Here, the most important resource are the live sessions... I didn’t practice the GAs properly. So I failed ROE.'}, {'url': 'https://discourse.onlinedegree.iitm.ac.in/t/tds-module-6/168482,', 'text': 'All modules were released before the 10th of Jan on the TDS course site. https://tds.s-anand.net/#/'}]}\n"
     ]
    }
   ],
   "source": [
    "print(parse_llm_response(ans))"
   ]
  },
  {
   "cell_type": "markdown",
   "id": "5a5e1438",
   "metadata": {},
   "source": []
  },
  {
   "cell_type": "code",
   "execution_count": null,
   "id": "db9c8f71",
   "metadata": {},
   "outputs": [],
   "source": [
    "# {'answer': 'To proceed with the TDS course, consider the following:\\n\\n1.  **Timing:** It is recommended to take TDS after completing MLP (Machine Learning Programming) or towards the end of your diploma subjects, as this might give you the best chance of doing well. Some students have noted that additional programming skills beyond Python are required.\\n2.  **Course Content and Resources:** All course content, including recorded videos, course calendars, and GAs (Graded Assignments), are available on the TDS course site. You should diligently read the course introduction as it contains very important information.\\n3.  **Engage with Learning Materials:** While video lectures are the primary content, live sessions are highlighted as the most important resource and are highly recommended. Make sure to practice the Graded Assignments properly.', 'links': [{'url': 'https://discourse.onlinedegree.iitm.ac.in/t/which-subject-to-choose-in-jan-term/161071,', 'text': 'Don’t take TDS, this subject should be taken in the end else you might have some problem TDS at the end best. Gives you the best chance of doing well in it. Kind regards Yes you should do tds after mlp only it really help you alot trust me'}, {'url': 'https://discourse.onlinedegree.iitm.ac.in/t/tds-jan-2025-calender-accesss-and-video-lecture-access-in-portal/163158,', 'text': 'The course content is available at [Screenshot 2025-01-13 at 22.47.14] At Tools in Data Science the course calendar is also available. [Screenshot 2025-01-13 at 22.51.33] Likewise the GAs also are available through the links in the seek portal as well as on the course domain shared above. The course introduction has very important information. Many students who faced problems in Tools for Data Science in previous terms usually never read the intro. Please be diligent to read everything carefully.'}, {'url': 'https://discourse.onlinedegree.iitm.ac.in/t/issues-in-tds-and-replacement-with-another-course/164147,', 'text': 'Additional programming skills are required(in addition to Python) to follow the TDS Course. That means indirectly, one should complete many courses diploma in programming before doing TDS.'}, {'url': 'https://discourse.onlinedegree.iitm.ac.in/t/project-2-tds-solver-discussion-thread/169029,', 'text': 'In one of the orientation session, I heard Andrew sir say this (subject to correction): The video lectures are the primary content. It is not compulsory to attend the live sessions, but it is highly recommended. Here, the most important resource are the live sessions... I didn’t practice the GAs properly. So I failed ROE.'}, {'url': 'https://discourse.onlinedegree.iitm.ac.in/t/tds-module-6/168482,', 'text': 'All modules were released before the 10th of Jan on the TDS course site. https://tds.s-anand.net/#/'}]}"
   ]
  },
  {
   "cell_type": "code",
   "execution_count": null,
   "id": "ae5297fa",
   "metadata": {},
   "outputs": [],
   "source": [
    "async def process_multimodal_query(question, image_base64):\n",
    "\n",
    "    try:\n",
    "        if not image_base64:\n",
    "            logger.info(\"No image provided, processing as text-only query\")\n",
    "            return await get_embedding(question)\n",
    "        \n",
    "        logger.info(\"Processing multimodal query with image\")\n",
    "        # Call the GPT-4o Vision API to process the image and question\n",
    "        url = \"https://aipipe.org/openai/v1/chat/completions\"\n",
    "        headers = {\n",
    "            \"Authorization\": API_KEY,\n",
    "            \"Content-Type\": \"application/json\"\n",
    "        }\n",
    "        \n",
    "        # Format the image for the API\n",
    "        image_content = f\"data:image/jpeg;base64,{image_base64}\"\n",
    "        \n",
    "        payload = {\n",
    "            \"model\": \"gpt-4o-mini\",\n",
    "            \"messages\": [\n",
    "                {\n",
    "                    \"role\": \"user\",\n",
    "                    \"content\": [\n",
    "                        {\"type\": \"text\", \"text\": f\"Look at this image and tell me what you see related to this question: {question}\"},\n",
    "                        {\"type\": \"image_url\", \"image_url\": {\"url\": image_content}}\n",
    "                    ]\n",
    "                }\n",
    "            ]\n",
    "        }"
   ]
  },
  {
   "cell_type": "code",
   "execution_count": null,
   "id": "d0403658",
   "metadata": {},
   "outputs": [],
   "source": []
  },
  {
   "cell_type": "code",
   "execution_count": null,
   "id": "e954a87b",
   "metadata": {},
   "outputs": [],
   "source": []
  }
 ],
 "metadata": {
  "kernelspec": {
   "display_name": "venv",
   "language": "python",
   "name": "python3"
  },
  "language_info": {
   "codemirror_mode": {
    "name": "ipython",
    "version": 3
   },
   "file_extension": ".py",
   "mimetype": "text/x-python",
   "name": "python",
   "nbconvert_exporter": "python",
   "pygments_lexer": "ipython3",
   "version": "3.11.1"
  }
 },
 "nbformat": 4,
 "nbformat_minor": 5
}
